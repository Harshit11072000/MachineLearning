{
  "nbformat": 4,
  "nbformat_minor": 0,
  "metadata": {
    "colab": {
      "name": "uber_data_analysis",
      "provenance": [],
      "collapsed_sections": [],
      "authorship_tag": "ABX9TyNN+jFzglJjWBshP9PQ75lp",
      "include_colab_link": true
    },
    "kernelspec": {
      "name": "python3",
      "display_name": "Python 3"
    }
  },
  "cells": [
    {
      "cell_type": "markdown",
      "metadata": {
        "id": "view-in-github",
        "colab_type": "text"
      },
      "source": [
        "<a href=\"https://colab.research.google.com/github/Harshit11072000/MachineLearning/blob/main/uber_data_analysis.ipynb\" target=\"_parent\"><img src=\"https://colab.research.google.com/assets/colab-badge.svg\" alt=\"Open In Colab\"/></a>"
      ]
    },
    {
      "cell_type": "code",
      "metadata": {
        "id": "q5lOTSs3IJp4"
      },
      "source": [
        "import pandas as pd\r\n",
        "import numpy as np\r\n",
        "import matplotlib.pyplot as plt\r\n"
      ],
      "execution_count": null,
      "outputs": []
    },
    {
      "cell_type": "code",
      "metadata": {
        "id": "yKaEd8gQKOwr"
      },
      "source": [
        "d1 = pd.read_csv(\"uber-raw-data-apr14.csv\")\r\n",
        "d2 = pd.read_csv(\"uber-raw-data-may14.csv\")\r\n",
        "d3 = pd.read_csv(\"uber-raw-data-jun14.csv\")\r\n",
        "d4 = pd.read_csv(\"uber-raw-data-jul14.csv\")\r\n",
        "d5 = pd.read_csv(\"uber-raw-data-aug14.csv\")\r\n",
        "d6 = pd.read_csv(\"uber-raw-data-sep14.csv\")"
      ],
      "execution_count": null,
      "outputs": []
    },
    {
      "cell_type": "code",
      "metadata": {
        "colab": {
          "base_uri": "https://localhost:8080/"
        },
        "id": "W4ptVVZdKqE2",
        "outputId": "4f9790d4-6319-492d-a843-7c9c5abcc951"
      },
      "source": [
        "print(d1)"
      ],
      "execution_count": null,
      "outputs": [
        {
          "output_type": "stream",
          "text": [
            "                 Date/Time      Lat      Lon    Base\n",
            "0         4/1/2014 0:11:00  40.7690 -73.9549  B02512\n",
            "1         4/1/2014 0:17:00  40.7267 -74.0345  B02512\n",
            "2         4/1/2014 0:21:00  40.7316 -73.9873  B02512\n",
            "3         4/1/2014 0:28:00  40.7588 -73.9776  B02512\n",
            "4         4/1/2014 0:33:00  40.7594 -73.9722  B02512\n",
            "...                    ...      ...      ...     ...\n",
            "564511  4/30/2014 23:22:00  40.7640 -73.9744  B02764\n",
            "564512  4/30/2014 23:26:00  40.7629 -73.9672  B02764\n",
            "564513  4/30/2014 23:31:00  40.7443 -73.9889  B02764\n",
            "564514  4/30/2014 23:32:00  40.6756 -73.9405  B02764\n",
            "564515  4/30/2014 23:48:00  40.6880 -73.9608  B02764\n",
            "\n",
            "[564516 rows x 4 columns]\n"
          ],
          "name": "stdout"
        }
      ]
    },
    {
      "cell_type": "code",
      "metadata": {
        "id": "ia8bhxt3K8_L"
      },
      "source": [
        "dataset = [d1,d2,d3,d4,d5,d6]\r\n",
        "d7 = pd.concat(dataset)\r\n"
      ],
      "execution_count": null,
      "outputs": []
    },
    {
      "cell_type": "code",
      "metadata": {
        "colab": {
          "base_uri": "https://localhost:8080/"
        },
        "id": "m7cV0KykLSPX",
        "outputId": "33a6047c-a6b0-4ba1-9849-426c3e1cc991"
      },
      "source": [
        "print(d7)"
      ],
      "execution_count": null,
      "outputs": [
        {
          "output_type": "stream",
          "text": [
            "                  Date/Time      Lat      Lon    Base\n",
            "0          4/1/2014 0:11:00  40.7690 -73.9549  B02512\n",
            "1          4/1/2014 0:17:00  40.7267 -74.0345  B02512\n",
            "2          4/1/2014 0:21:00  40.7316 -73.9873  B02512\n",
            "3          4/1/2014 0:28:00  40.7588 -73.9776  B02512\n",
            "4          4/1/2014 0:33:00  40.7594 -73.9722  B02512\n",
            "...                     ...      ...      ...     ...\n",
            "1028131  9/30/2014 22:57:00  40.7668 -73.9845  B02764\n",
            "1028132  9/30/2014 22:57:00  40.6911 -74.1773  B02764\n",
            "1028133  9/30/2014 22:58:00  40.8519 -73.9319  B02764\n",
            "1028134  9/30/2014 22:58:00  40.7081 -74.0066  B02764\n",
            "1028135  9/30/2014 22:58:00  40.7140 -73.9496  B02764\n",
            "\n",
            "[4534327 rows x 4 columns]\n"
          ],
          "name": "stdout"
        }
      ]
    },
    {
      "cell_type": "code",
      "metadata": {
        "id": "EKlsMELMMLKl"
      },
      "source": [
        "d7['Date'] = pd.to_datetime(d7['Date/Time']).dt.date\r\n",
        "d7['Time'] = pd.to_datetime(d7['Date/Time']).dt.time\r\n",
        "d7['day-of-week'] = pd.to_datetime(d7['Date']).dt.day_name()\r\n",
        "d7['Hour'] = pd.to_datetime(d7['Date/Time']).dt.hour\r\n",
        "d7['Date Only'] = pd.to_datetime(d7['Date']).dt.day"
      ],
      "execution_count": null,
      "outputs": []
    },
    {
      "cell_type": "code",
      "metadata": {
        "id": "oPuSYvJadXkM"
      },
      "source": [
        "d7 = d7.drop(['Lat','Lon'],axis=1)"
      ],
      "execution_count": null,
      "outputs": []
    },
    {
      "cell_type": "code",
      "metadata": {
        "colab": {
          "base_uri": "https://localhost:8080/",
          "height": 195
        },
        "id": "1muz7bGbpYJi",
        "outputId": "d8a64548-7704-4171-d714-58c3b4e00b99"
      },
      "source": [
        "d7.head()"
      ],
      "execution_count": null,
      "outputs": [
        {
          "output_type": "execute_result",
          "data": {
            "text/html": [
              "<div>\n",
              "<style scoped>\n",
              "    .dataframe tbody tr th:only-of-type {\n",
              "        vertical-align: middle;\n",
              "    }\n",
              "\n",
              "    .dataframe tbody tr th {\n",
              "        vertical-align: top;\n",
              "    }\n",
              "\n",
              "    .dataframe thead th {\n",
              "        text-align: right;\n",
              "    }\n",
              "</style>\n",
              "<table border=\"1\" class=\"dataframe\">\n",
              "  <thead>\n",
              "    <tr style=\"text-align: right;\">\n",
              "      <th></th>\n",
              "      <th>Date/Time</th>\n",
              "      <th>Base</th>\n",
              "      <th>Date</th>\n",
              "      <th>Time</th>\n",
              "      <th>day-of-week</th>\n",
              "      <th>Hour</th>\n",
              "      <th>Date Only</th>\n",
              "    </tr>\n",
              "  </thead>\n",
              "  <tbody>\n",
              "    <tr>\n",
              "      <th>0</th>\n",
              "      <td>4/1/2014 0:11:00</td>\n",
              "      <td>B02512</td>\n",
              "      <td>2014-04-01</td>\n",
              "      <td>00:11:00</td>\n",
              "      <td>Tuesday</td>\n",
              "      <td>0</td>\n",
              "      <td>1</td>\n",
              "    </tr>\n",
              "    <tr>\n",
              "      <th>1</th>\n",
              "      <td>4/1/2014 0:17:00</td>\n",
              "      <td>B02512</td>\n",
              "      <td>2014-04-01</td>\n",
              "      <td>00:17:00</td>\n",
              "      <td>Tuesday</td>\n",
              "      <td>0</td>\n",
              "      <td>1</td>\n",
              "    </tr>\n",
              "    <tr>\n",
              "      <th>2</th>\n",
              "      <td>4/1/2014 0:21:00</td>\n",
              "      <td>B02512</td>\n",
              "      <td>2014-04-01</td>\n",
              "      <td>00:21:00</td>\n",
              "      <td>Tuesday</td>\n",
              "      <td>0</td>\n",
              "      <td>1</td>\n",
              "    </tr>\n",
              "    <tr>\n",
              "      <th>3</th>\n",
              "      <td>4/1/2014 0:28:00</td>\n",
              "      <td>B02512</td>\n",
              "      <td>2014-04-01</td>\n",
              "      <td>00:28:00</td>\n",
              "      <td>Tuesday</td>\n",
              "      <td>0</td>\n",
              "      <td>1</td>\n",
              "    </tr>\n",
              "    <tr>\n",
              "      <th>4</th>\n",
              "      <td>4/1/2014 0:33:00</td>\n",
              "      <td>B02512</td>\n",
              "      <td>2014-04-01</td>\n",
              "      <td>00:33:00</td>\n",
              "      <td>Tuesday</td>\n",
              "      <td>0</td>\n",
              "      <td>1</td>\n",
              "    </tr>\n",
              "  </tbody>\n",
              "</table>\n",
              "</div>"
            ],
            "text/plain": [
              "          Date/Time    Base        Date      Time day-of-week  Hour  Date Only\n",
              "0  4/1/2014 0:11:00  B02512  2014-04-01  00:11:00     Tuesday     0          1\n",
              "1  4/1/2014 0:17:00  B02512  2014-04-01  00:17:00     Tuesday     0          1\n",
              "2  4/1/2014 0:21:00  B02512  2014-04-01  00:21:00     Tuesday     0          1\n",
              "3  4/1/2014 0:28:00  B02512  2014-04-01  00:28:00     Tuesday     0          1\n",
              "4  4/1/2014 0:33:00  B02512  2014-04-01  00:33:00     Tuesday     0          1"
            ]
          },
          "metadata": {
            "tags": []
          },
          "execution_count": 15
        }
      ]
    },
    {
      "cell_type": "code",
      "metadata": {
        "colab": {
          "base_uri": "https://localhost:8080/",
          "height": 279
        },
        "id": "jB1w97T3wPPh",
        "outputId": "f18ae186-4bce-4ded-dfde-312c7de52da5"
      },
      "source": [
        "d8 = d7.groupby('Base',sort=False)"
      ],
      "execution_count": null,
      "outputs": [
        {
          "output_type": "error",
          "ename": "AttributeError",
          "evalue": "ignored",
          "traceback": [
            "\u001b[0;31m---------------------------------------------------------------------------\u001b[0m",
            "\u001b[0;31mAttributeError\u001b[0m                            Traceback (most recent call last)",
            "\u001b[0;32m<ipython-input-22-bafac8d4838e>\u001b[0m in \u001b[0;36m<module>\u001b[0;34m()\u001b[0m\n\u001b[0;32m----> 1\u001b[0;31m \u001b[0md8\u001b[0m \u001b[0;34m=\u001b[0m \u001b[0md7\u001b[0m\u001b[0;34m.\u001b[0m\u001b[0mgroupby\u001b[0m\u001b[0;34m(\u001b[0m\u001b[0;34m'Base'\u001b[0m\u001b[0;34m,\u001b[0m\u001b[0msort\u001b[0m\u001b[0;34m=\u001b[0m\u001b[0;32mFalse\u001b[0m\u001b[0;34m)\u001b[0m\u001b[0;34m\u001b[0m\u001b[0;34m\u001b[0m\u001b[0m\n\u001b[0m",
            "\u001b[0;32m/usr/local/lib/python3.6/dist-packages/pandas/core/groupby/groupby.py\u001b[0m in \u001b[0;36m__getattr__\u001b[0;34m(self, attr)\u001b[0m\n\u001b[1;32m    702\u001b[0m \u001b[0;34m\u001b[0m\u001b[0m\n\u001b[1;32m    703\u001b[0m         raise AttributeError(\n\u001b[0;32m--> 704\u001b[0;31m             \u001b[0;34mf\"'{type(self).__name__}' object has no attribute '{attr}'\"\u001b[0m\u001b[0;34m\u001b[0m\u001b[0;34m\u001b[0m\u001b[0m\n\u001b[0m\u001b[1;32m    705\u001b[0m         )\n\u001b[1;32m    706\u001b[0m \u001b[0;34m\u001b[0m\u001b[0m\n",
            "\u001b[0;31mAttributeError\u001b[0m: 'DataFrameGroupBy' object has no attribute 'groupby'"
          ]
        }
      ]
    },
    {
      "cell_type": "code",
      "metadata": {
        "id": "3EHggOfIzxMk",
        "colab": {
          "base_uri": "https://localhost:8080/"
        },
        "outputId": "2e9dcc88-3a14-4f55-c833-1b51ae14e180"
      },
      "source": [
        "print(d7)"
      ],
      "execution_count": null,
      "outputs": [
        {
          "output_type": "stream",
          "text": [
            "<pandas.core.groupby.generic.DataFrameGroupBy object at 0x7f61d4f9f828>\n"
          ],
          "name": "stdout"
        }
      ]
    },
    {
      "cell_type": "code",
      "metadata": {
        "colab": {
          "base_uri": "https://localhost:8080/"
        },
        "id": "V9rh2V-T1-E8",
        "outputId": "e283f4e5-bedb-49e2-b3ad-c9ae0de1de11"
      },
      "source": [
        "print(d7.groups)"
      ],
      "execution_count": null,
      "outputs": [
        {
          "output_type": "stream",
          "text": [
            "{'B02512': [0, 1, 2, 3, 4, 5, 6, 7, 8, 9, 10, 11, 12, 13, 14, 15, 16, 17, 18, 19, 20, 21, 22, 23, 24, 25, 26, 27, 28, 29, 30, 31, 32, 33, 34, 35, 36, 37, 38, 39, 40, 41, 42, 43, 44, 45, 46, 47, 48, 49, 50, 51, 52, 53, 54, 55, 56, 57, 58, 59, 60, 61, 62, 63, 64, 65, 66, 67, 68, 69, 70, 71, 72, 73, 74, 75, 76, 77, 78, 79, 80, 81, 82, 83, 84, 85, 86, 87, 88, 89, 90, 91, 92, 93, 94, 95, 96, 97, 98, 99, ...], 'B02598': [35536, 35537, 35538, 35539, 35540, 35541, 35542, 35543, 35544, 35545, 35546, 35547, 35548, 35549, 35550, 35551, 35552, 35553, 35554, 35555, 35556, 35557, 35558, 35559, 35560, 35561, 35562, 35563, 35564, 35565, 35566, 35567, 35568, 35569, 35570, 35571, 35572, 35573, 35574, 35575, 35576, 35577, 35578, 35579, 35580, 35581, 35582, 35583, 35584, 35585, 35586, 35587, 35588, 35589, 35590, 35591, 35592, 35593, 35594, 35595, 35596, 35597, 35598, 35599, 35600, 35601, 35602, 35603, 35604, 35605, 35606, 35607, 35608, 35609, 35610, 35611, 35612, 35613, 35614, 35615, 35616, 35617, 35618, 35619, 35620, 35621, 35622, 35623, 35624, 35625, 35626, 35627, 35628, 35629, 35630, 35631, 35632, 35633, 35634, 35635, ...], 'B02617': [218799, 218800, 218801, 218802, 218803, 218804, 218805, 218806, 218807, 218808, 218809, 218810, 218811, 218812, 218813, 218814, 218815, 218816, 218817, 218818, 218819, 218820, 218821, 218822, 218823, 218824, 218825, 218826, 218827, 218828, 218829, 218830, 218831, 218832, 218833, 218834, 218835, 218836, 218837, 218838, 218839, 218840, 218841, 218842, 218843, 218844, 218845, 218846, 218847, 218848, 218849, 218850, 218851, 218852, 218853, 218854, 218855, 218856, 218857, 218858, 218859, 218860, 218861, 218862, 218863, 218864, 218865, 218866, 218867, 218868, 218869, 218870, 218871, 218872, 218873, 218874, 218875, 218876, 218877, 218878, 218879, 218880, 218881, 218882, 218883, 218884, 218885, 218886, 218887, 218888, 218889, 218890, 218891, 218892, 218893, 218894, 218895, 218896, 218897, 218898, ...], 'B02682': [326800, 326801, 326802, 326803, 326804, 326805, 326806, 326807, 326808, 326809, 326810, 326811, 326812, 326813, 326814, 326815, 326816, 326817, 326818, 326819, 326820, 326821, 326822, 326823, 326824, 326825, 326826, 326827, 326828, 326829, 326830, 326831, 326832, 326833, 326834, 326835, 326836, 326837, 326838, 326839, 326840, 326841, 326842, 326843, 326844, 326845, 326846, 326847, 326848, 326849, 326850, 326851, 326852, 326853, 326854, 326855, 326856, 326857, 326858, 326859, 326860, 326861, 326862, 326863, 326864, 326865, 326866, 326867, 326868, 326869, 326870, 326871, 326872, 326873, 326874, 326875, 326876, 326877, 326878, 326879, 326880, 326881, 326882, 326883, 326884, 326885, 326886, 326887, 326888, 326889, 326890, 326891, 326892, 326893, 326894, 326895, 326896, 326897, 326898, 326899, ...], 'B02764': [554608, 554609, 554610, 554611, 554612, 554613, 554614, 554615, 554616, 554617, 554618, 554619, 554620, 554621, 554622, 554623, 554624, 554625, 554626, 554627, 554628, 554629, 554630, 554631, 554632, 554633, 554634, 554635, 554636, 554637, 554638, 554639, 554640, 554641, 554642, 554643, 554644, 554645, 554646, 554647, 554648, 554649, 554650, 554651, 554652, 554653, 554654, 554655, 554656, 554657, 554658, 554659, 554660, 554661, 554662, 554663, 554664, 554665, 554666, 554667, 554668, 554669, 554670, 554671, 554672, 554673, 554674, 554675, 554676, 554677, 554678, 554679, 554680, 554681, 554682, 554683, 554684, 554685, 554686, 554687, 554688, 554689, 554690, 554691, 554692, 554693, 554694, 554695, 554696, 554697, 554698, 554699, 554700, 554701, 554702, 554703, 554704, 554705, 554706, 554707, ...]}\n"
          ],
          "name": "stdout"
        }
      ]
    },
    {
      "cell_type": "code",
      "metadata": {
        "colab": {
          "base_uri": "https://localhost:8080/"
        },
        "id": "CUNZY706W-oA",
        "outputId": "77507f96-23a0-4cfd-8914-300a015a7ce1"
      },
      "source": [
        "type(d7.groups)"
      ],
      "execution_count": null,
      "outputs": [
        {
          "output_type": "execute_result",
          "data": {
            "text/plain": [
              "pandas.io.formats.printing.PrettyDict"
            ]
          },
          "metadata": {
            "tags": []
          },
          "execution_count": 21
        }
      ]
    },
    {
      "cell_type": "code",
      "metadata": {
        "id": "3ddKkj1PXNnk"
      },
      "source": [
        ""
      ],
      "execution_count": null,
      "outputs": []
    }
  ]
}