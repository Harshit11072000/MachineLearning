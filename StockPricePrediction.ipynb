{
  "nbformat": 4,
  "nbformat_minor": 0,
  "metadata": {
    "colab": {
      "name": "StockPricePrediction.ipynb",
      "provenance": [],
      "authorship_tag": "ABX9TyPK8Obpm0DhDp5z5cCErfh9",
      "include_colab_link": true
    },
    "kernelspec": {
      "name": "python3",
      "display_name": "Python 3"
    }
  },
  "cells": [
    {
      "cell_type": "markdown",
      "metadata": {
        "id": "view-in-github",
        "colab_type": "text"
      },
      "source": [
        "<a href=\"https://colab.research.google.com/github/Harshit11072000/MachineLearning/blob/main/StockPricePrediction.ipynb\" target=\"_parent\"><img src=\"https://colab.research.google.com/assets/colab-badge.svg\" alt=\"Open In Colab\"/></a>"
      ]
    },
    {
      "cell_type": "code",
      "metadata": {
        "colab": {
          "base_uri": "https://localhost:8080/"
        },
        "id": "LkMaCzu2xTDF",
        "outputId": "6092145e-453c-409b-b81c-312f4fa67d6a"
      },
      "source": [
        "!pip install quandl"
      ],
      "execution_count": 3,
      "outputs": [
        {
          "output_type": "stream",
          "text": [
            "Collecting quandl\n",
            "  Downloading https://files.pythonhosted.org/packages/c2/58/9f0e69d836045e3865d263e9ed49f42b23a58526fdabb30f74c430baee3f/Quandl-3.6.0-py2.py3-none-any.whl\n",
            "Requirement already satisfied: python-dateutil in /usr/local/lib/python3.6/dist-packages (from quandl) (2.8.1)\n",
            "Requirement already satisfied: requests>=2.7.0 in /usr/local/lib/python3.6/dist-packages (from quandl) (2.23.0)\n",
            "Requirement already satisfied: more-itertools in /usr/local/lib/python3.6/dist-packages (from quandl) (8.6.0)\n",
            "Requirement already satisfied: numpy>=1.8 in /usr/local/lib/python3.6/dist-packages (from quandl) (1.19.5)\n",
            "Collecting inflection>=0.3.1\n",
            "  Downloading https://files.pythonhosted.org/packages/59/91/aa6bde563e0085a02a435aa99b49ef75b0a4b062635e606dab23ce18d720/inflection-0.5.1-py2.py3-none-any.whl\n",
            "Requirement already satisfied: six in /usr/local/lib/python3.6/dist-packages (from quandl) (1.15.0)\n",
            "Requirement already satisfied: pandas>=0.14 in /usr/local/lib/python3.6/dist-packages (from quandl) (1.1.5)\n",
            "Requirement already satisfied: urllib3!=1.25.0,!=1.25.1,<1.26,>=1.21.1 in /usr/local/lib/python3.6/dist-packages (from requests>=2.7.0->quandl) (1.24.3)\n",
            "Requirement already satisfied: idna<3,>=2.5 in /usr/local/lib/python3.6/dist-packages (from requests>=2.7.0->quandl) (2.10)\n",
            "Requirement already satisfied: chardet<4,>=3.0.2 in /usr/local/lib/python3.6/dist-packages (from requests>=2.7.0->quandl) (3.0.4)\n",
            "Requirement already satisfied: certifi>=2017.4.17 in /usr/local/lib/python3.6/dist-packages (from requests>=2.7.0->quandl) (2020.12.5)\n",
            "Requirement already satisfied: pytz>=2017.2 in /usr/local/lib/python3.6/dist-packages (from pandas>=0.14->quandl) (2018.9)\n",
            "Installing collected packages: inflection, quandl\n",
            "Successfully installed inflection-0.5.1 quandl-3.6.0\n"
          ],
          "name": "stdout"
        }
      ]
    },
    {
      "cell_type": "code",
      "metadata": {
        "id": "xOiQudAaxDlG"
      },
      "source": [
        "import quandl \r\n",
        "import numpy as np\r\n",
        "import pandas as pd\r\n",
        "from sklearn.metrics import mean_squared_error"
      ],
      "execution_count": 82,
      "outputs": []
    },
    {
      "cell_type": "code",
      "metadata": {
        "id": "APCOXoVDxIcO"
      },
      "source": [
        "df = quandl.get(\"EOD/AAPL\", authtoken=\"KHNv5J2D_QpEdw_ogxza\")"
      ],
      "execution_count": 83,
      "outputs": []
    },
    {
      "cell_type": "code",
      "metadata": {
        "colab": {
          "base_uri": "https://localhost:8080/",
          "height": 225
        },
        "id": "t_bT32Qwxm4N",
        "outputId": "6943f777-2e59-45ef-8f73-c94a07e75175"
      },
      "source": [
        "df.head()"
      ],
      "execution_count": 84,
      "outputs": [
        {
          "output_type": "execute_result",
          "data": {
            "text/html": [
              "<div>\n",
              "<style scoped>\n",
              "    .dataframe tbody tr th:only-of-type {\n",
              "        vertical-align: middle;\n",
              "    }\n",
              "\n",
              "    .dataframe tbody tr th {\n",
              "        vertical-align: top;\n",
              "    }\n",
              "\n",
              "    .dataframe thead th {\n",
              "        text-align: right;\n",
              "    }\n",
              "</style>\n",
              "<table border=\"1\" class=\"dataframe\">\n",
              "  <thead>\n",
              "    <tr style=\"text-align: right;\">\n",
              "      <th></th>\n",
              "      <th>Open</th>\n",
              "      <th>High</th>\n",
              "      <th>Low</th>\n",
              "      <th>Close</th>\n",
              "      <th>Volume</th>\n",
              "      <th>Dividend</th>\n",
              "      <th>Split</th>\n",
              "      <th>Adj_Open</th>\n",
              "      <th>Adj_High</th>\n",
              "      <th>Adj_Low</th>\n",
              "      <th>Adj_Close</th>\n",
              "      <th>Adj_Volume</th>\n",
              "    </tr>\n",
              "    <tr>\n",
              "      <th>Date</th>\n",
              "      <th></th>\n",
              "      <th></th>\n",
              "      <th></th>\n",
              "      <th></th>\n",
              "      <th></th>\n",
              "      <th></th>\n",
              "      <th></th>\n",
              "      <th></th>\n",
              "      <th></th>\n",
              "      <th></th>\n",
              "      <th></th>\n",
              "      <th></th>\n",
              "    </tr>\n",
              "  </thead>\n",
              "  <tbody>\n",
              "    <tr>\n",
              "      <th>2013-09-03</th>\n",
              "      <td>493.10</td>\n",
              "      <td>500.60</td>\n",
              "      <td>487.35</td>\n",
              "      <td>488.580</td>\n",
              "      <td>11854600.0</td>\n",
              "      <td>0.0</td>\n",
              "      <td>1.0</td>\n",
              "      <td>15.619650</td>\n",
              "      <td>15.857223</td>\n",
              "      <td>15.437510</td>\n",
              "      <td>15.476472</td>\n",
              "      <td>331928800.0</td>\n",
              "    </tr>\n",
              "    <tr>\n",
              "      <th>2013-09-04</th>\n",
              "      <td>499.56</td>\n",
              "      <td>502.24</td>\n",
              "      <td>496.28</td>\n",
              "      <td>498.691</td>\n",
              "      <td>12322600.0</td>\n",
              "      <td>0.0</td>\n",
              "      <td>1.0</td>\n",
              "      <td>15.824280</td>\n",
              "      <td>15.909173</td>\n",
              "      <td>15.720381</td>\n",
              "      <td>15.796753</td>\n",
              "      <td>345032800.0</td>\n",
              "    </tr>\n",
              "    <tr>\n",
              "      <th>2013-09-05</th>\n",
              "      <td>500.25</td>\n",
              "      <td>500.68</td>\n",
              "      <td>493.64</td>\n",
              "      <td>495.270</td>\n",
              "      <td>8441700.0</td>\n",
              "      <td>0.0</td>\n",
              "      <td>1.0</td>\n",
              "      <td>15.846136</td>\n",
              "      <td>15.859757</td>\n",
              "      <td>15.636755</td>\n",
              "      <td>15.688388</td>\n",
              "      <td>236367600.0</td>\n",
              "    </tr>\n",
              "    <tr>\n",
              "      <th>2013-09-06</th>\n",
              "      <td>498.44</td>\n",
              "      <td>499.38</td>\n",
              "      <td>489.95</td>\n",
              "      <td>498.220</td>\n",
              "      <td>12840200.0</td>\n",
              "      <td>0.0</td>\n",
              "      <td>1.0</td>\n",
              "      <td>15.788802</td>\n",
              "      <td>15.818578</td>\n",
              "      <td>15.519869</td>\n",
              "      <td>15.781833</td>\n",
              "      <td>359525600.0</td>\n",
              "    </tr>\n",
              "    <tr>\n",
              "      <th>2013-09-09</th>\n",
              "      <td>505.00</td>\n",
              "      <td>507.92</td>\n",
              "      <td>503.48</td>\n",
              "      <td>506.170</td>\n",
              "      <td>12167400.0</td>\n",
              "      <td>0.0</td>\n",
              "      <td>1.0</td>\n",
              "      <td>15.996600</td>\n",
              "      <td>16.089095</td>\n",
              "      <td>15.948451</td>\n",
              "      <td>16.033661</td>\n",
              "      <td>340687200.0</td>\n",
              "    </tr>\n",
              "  </tbody>\n",
              "</table>\n",
              "</div>"
            ],
            "text/plain": [
              "              Open    High     Low  ...    Adj_Low  Adj_Close   Adj_Volume\n",
              "Date                                ...                                   \n",
              "2013-09-03  493.10  500.60  487.35  ...  15.437510  15.476472  331928800.0\n",
              "2013-09-04  499.56  502.24  496.28  ...  15.720381  15.796753  345032800.0\n",
              "2013-09-05  500.25  500.68  493.64  ...  15.636755  15.688388  236367600.0\n",
              "2013-09-06  498.44  499.38  489.95  ...  15.519869  15.781833  359525600.0\n",
              "2013-09-09  505.00  507.92  503.48  ...  15.948451  16.033661  340687200.0\n",
              "\n",
              "[5 rows x 12 columns]"
            ]
          },
          "metadata": {
            "tags": []
          },
          "execution_count": 84
        }
      ]
    },
    {
      "cell_type": "code",
      "metadata": {
        "colab": {
          "base_uri": "https://localhost:8080/"
        },
        "id": "JH6XYu59yxL2",
        "outputId": "5e6a3260-6de8-4a24-aa47-741bc5c72dc8"
      },
      "source": [
        "(df['Split']).value_counts() #One Time Only the Stock Split happened"
      ],
      "execution_count": 85,
      "outputs": [
        {
          "output_type": "execute_result",
          "data": {
            "text/plain": [
              "1.0    1089\n",
              "7.0       1\n",
              "Name: Split, dtype: int64"
            ]
          },
          "metadata": {
            "tags": []
          },
          "execution_count": 85
        }
      ]
    },
    {
      "cell_type": "code",
      "metadata": {
        "colab": {
          "base_uri": "https://localhost:8080/"
        },
        "id": "B20FbXYiy_Ys",
        "outputId": "209e282e-4316-4cf9-b517-86922179073e"
      },
      "source": [
        "(df['Dividend']).value_counts() #only 17 times there is a dividend raise"
      ],
      "execution_count": 86,
      "outputs": [
        {
          "output_type": "execute_result",
          "data": {
            "text/plain": [
              "0.00    1073\n",
              "0.57       4\n",
              "0.52       4\n",
              "0.47       3\n",
              "0.63       3\n",
              "3.05       2\n",
              "3.29       1\n",
              "Name: Dividend, dtype: int64"
            ]
          },
          "metadata": {
            "tags": []
          },
          "execution_count": 86
        }
      ]
    },
    {
      "cell_type": "code",
      "metadata": {
        "colab": {
          "base_uri": "https://localhost:8080/",
          "height": 402
        },
        "id": "dp42h2FCznmf",
        "outputId": "d8354d22-e4b7-4d51-ab78-31478f155123"
      },
      "source": [
        "df.corr() #Correlation with highest columns are being considered"
      ],
      "execution_count": 87,
      "outputs": [
        {
          "output_type": "execute_result",
          "data": {
            "text/html": [
              "<div>\n",
              "<style scoped>\n",
              "    .dataframe tbody tr th:only-of-type {\n",
              "        vertical-align: middle;\n",
              "    }\n",
              "\n",
              "    .dataframe tbody tr th {\n",
              "        vertical-align: top;\n",
              "    }\n",
              "\n",
              "    .dataframe thead th {\n",
              "        text-align: right;\n",
              "    }\n",
              "</style>\n",
              "<table border=\"1\" class=\"dataframe\">\n",
              "  <thead>\n",
              "    <tr style=\"text-align: right;\">\n",
              "      <th></th>\n",
              "      <th>Open</th>\n",
              "      <th>High</th>\n",
              "      <th>Low</th>\n",
              "      <th>Close</th>\n",
              "      <th>Volume</th>\n",
              "      <th>Dividend</th>\n",
              "      <th>Split</th>\n",
              "      <th>Adj_Open</th>\n",
              "      <th>Adj_High</th>\n",
              "      <th>Adj_Low</th>\n",
              "      <th>Adj_Close</th>\n",
              "      <th>Adj_Volume</th>\n",
              "    </tr>\n",
              "  </thead>\n",
              "  <tbody>\n",
              "    <tr>\n",
              "      <th>Open</th>\n",
              "      <td>1.000000</td>\n",
              "      <td>0.999948</td>\n",
              "      <td>0.999935</td>\n",
              "      <td>0.999866</td>\n",
              "      <td>-0.547597</td>\n",
              "      <td>0.088894</td>\n",
              "      <td>-0.019234</td>\n",
              "      <td>-0.534445</td>\n",
              "      <td>-0.537418</td>\n",
              "      <td>-0.531829</td>\n",
              "      <td>-0.534399</td>\n",
              "      <td>0.502054</td>\n",
              "    </tr>\n",
              "    <tr>\n",
              "      <th>High</th>\n",
              "      <td>0.999948</td>\n",
              "      <td>1.000000</td>\n",
              "      <td>0.999941</td>\n",
              "      <td>0.999944</td>\n",
              "      <td>-0.545893</td>\n",
              "      <td>0.088582</td>\n",
              "      <td>-0.019154</td>\n",
              "      <td>-0.535283</td>\n",
              "      <td>-0.538038</td>\n",
              "      <td>-0.532575</td>\n",
              "      <td>-0.534990</td>\n",
              "      <td>0.504125</td>\n",
              "    </tr>\n",
              "    <tr>\n",
              "      <th>Low</th>\n",
              "      <td>0.999935</td>\n",
              "      <td>0.999941</td>\n",
              "      <td>1.000000</td>\n",
              "      <td>0.999949</td>\n",
              "      <td>-0.550156</td>\n",
              "      <td>0.089065</td>\n",
              "      <td>-0.019259</td>\n",
              "      <td>-0.533844</td>\n",
              "      <td>-0.536724</td>\n",
              "      <td>-0.530960</td>\n",
              "      <td>-0.533517</td>\n",
              "      <td>0.498174</td>\n",
              "    </tr>\n",
              "    <tr>\n",
              "      <th>Close</th>\n",
              "      <td>0.999866</td>\n",
              "      <td>0.999944</td>\n",
              "      <td>0.999949</td>\n",
              "      <td>1.000000</td>\n",
              "      <td>-0.548315</td>\n",
              "      <td>0.088610</td>\n",
              "      <td>-0.019044</td>\n",
              "      <td>-0.534448</td>\n",
              "      <td>-0.537173</td>\n",
              "      <td>-0.531552</td>\n",
              "      <td>-0.533903</td>\n",
              "      <td>0.500617</td>\n",
              "    </tr>\n",
              "    <tr>\n",
              "      <th>Volume</th>\n",
              "      <td>-0.547597</td>\n",
              "      <td>-0.545893</td>\n",
              "      <td>-0.550156</td>\n",
              "      <td>-0.548315</td>\n",
              "      <td>1.000000</td>\n",
              "      <td>-0.061064</td>\n",
              "      <td>0.054382</td>\n",
              "      <td>0.085888</td>\n",
              "      <td>0.095572</td>\n",
              "      <td>0.071723</td>\n",
              "      <td>0.081938</td>\n",
              "      <td>0.337092</td>\n",
              "    </tr>\n",
              "    <tr>\n",
              "      <th>Dividend</th>\n",
              "      <td>0.088894</td>\n",
              "      <td>0.088582</td>\n",
              "      <td>0.089065</td>\n",
              "      <td>0.088610</td>\n",
              "      <td>-0.061064</td>\n",
              "      <td>1.000000</td>\n",
              "      <td>-0.002708</td>\n",
              "      <td>-0.050353</td>\n",
              "      <td>-0.051215</td>\n",
              "      <td>-0.050306</td>\n",
              "      <td>-0.051095</td>\n",
              "      <td>0.002395</td>\n",
              "    </tr>\n",
              "    <tr>\n",
              "      <th>Split</th>\n",
              "      <td>-0.019234</td>\n",
              "      <td>-0.019154</td>\n",
              "      <td>-0.019259</td>\n",
              "      <td>-0.019044</td>\n",
              "      <td>0.054382</td>\n",
              "      <td>-0.002708</td>\n",
              "      <td>1.000000</td>\n",
              "      <td>-0.024993</td>\n",
              "      <td>-0.024640</td>\n",
              "      <td>-0.025124</td>\n",
              "      <td>-0.023978</td>\n",
              "      <td>0.029564</td>\n",
              "    </tr>\n",
              "    <tr>\n",
              "      <th>Adj_Open</th>\n",
              "      <td>-0.534445</td>\n",
              "      <td>-0.535283</td>\n",
              "      <td>-0.533844</td>\n",
              "      <td>-0.534448</td>\n",
              "      <td>0.085888</td>\n",
              "      <td>-0.050353</td>\n",
              "      <td>-0.024993</td>\n",
              "      <td>1.000000</td>\n",
              "      <td>0.999528</td>\n",
              "      <td>0.999416</td>\n",
              "      <td>0.998987</td>\n",
              "      <td>-0.549990</td>\n",
              "    </tr>\n",
              "    <tr>\n",
              "      <th>Adj_High</th>\n",
              "      <td>-0.537418</td>\n",
              "      <td>-0.538038</td>\n",
              "      <td>-0.536724</td>\n",
              "      <td>-0.537173</td>\n",
              "      <td>0.095572</td>\n",
              "      <td>-0.051215</td>\n",
              "      <td>-0.024640</td>\n",
              "      <td>0.999528</td>\n",
              "      <td>1.000000</td>\n",
              "      <td>0.999278</td>\n",
              "      <td>0.999526</td>\n",
              "      <td>-0.544404</td>\n",
              "    </tr>\n",
              "    <tr>\n",
              "      <th>Adj_Low</th>\n",
              "      <td>-0.531829</td>\n",
              "      <td>-0.532575</td>\n",
              "      <td>-0.530960</td>\n",
              "      <td>-0.531552</td>\n",
              "      <td>0.071723</td>\n",
              "      <td>-0.050306</td>\n",
              "      <td>-0.025124</td>\n",
              "      <td>0.999416</td>\n",
              "      <td>0.999278</td>\n",
              "      <td>1.000000</td>\n",
              "      <td>0.999558</td>\n",
              "      <td>-0.560073</td>\n",
              "    </tr>\n",
              "    <tr>\n",
              "      <th>Adj_Close</th>\n",
              "      <td>-0.534399</td>\n",
              "      <td>-0.534990</td>\n",
              "      <td>-0.533517</td>\n",
              "      <td>-0.533903</td>\n",
              "      <td>0.081938</td>\n",
              "      <td>-0.051095</td>\n",
              "      <td>-0.023978</td>\n",
              "      <td>0.998987</td>\n",
              "      <td>0.999526</td>\n",
              "      <td>0.999558</td>\n",
              "      <td>1.000000</td>\n",
              "      <td>-0.553474</td>\n",
              "    </tr>\n",
              "    <tr>\n",
              "      <th>Adj_Volume</th>\n",
              "      <td>0.502054</td>\n",
              "      <td>0.504125</td>\n",
              "      <td>0.498174</td>\n",
              "      <td>0.500617</td>\n",
              "      <td>0.337092</td>\n",
              "      <td>0.002395</td>\n",
              "      <td>0.029564</td>\n",
              "      <td>-0.549990</td>\n",
              "      <td>-0.544404</td>\n",
              "      <td>-0.560073</td>\n",
              "      <td>-0.553474</td>\n",
              "      <td>1.000000</td>\n",
              "    </tr>\n",
              "  </tbody>\n",
              "</table>\n",
              "</div>"
            ],
            "text/plain": [
              "                Open      High       Low  ...   Adj_Low  Adj_Close  Adj_Volume\n",
              "Open        1.000000  0.999948  0.999935  ... -0.531829  -0.534399    0.502054\n",
              "High        0.999948  1.000000  0.999941  ... -0.532575  -0.534990    0.504125\n",
              "Low         0.999935  0.999941  1.000000  ... -0.530960  -0.533517    0.498174\n",
              "Close       0.999866  0.999944  0.999949  ... -0.531552  -0.533903    0.500617\n",
              "Volume     -0.547597 -0.545893 -0.550156  ...  0.071723   0.081938    0.337092\n",
              "Dividend    0.088894  0.088582  0.089065  ... -0.050306  -0.051095    0.002395\n",
              "Split      -0.019234 -0.019154 -0.019259  ... -0.025124  -0.023978    0.029564\n",
              "Adj_Open   -0.534445 -0.535283 -0.533844  ...  0.999416   0.998987   -0.549990\n",
              "Adj_High   -0.537418 -0.538038 -0.536724  ...  0.999278   0.999526   -0.544404\n",
              "Adj_Low    -0.531829 -0.532575 -0.530960  ...  1.000000   0.999558   -0.560073\n",
              "Adj_Close  -0.534399 -0.534990 -0.533517  ...  0.999558   1.000000   -0.553474\n",
              "Adj_Volume  0.502054  0.504125  0.498174  ... -0.560073  -0.553474    1.000000\n",
              "\n",
              "[12 rows x 12 columns]"
            ]
          },
          "metadata": {
            "tags": []
          },
          "execution_count": 87
        }
      ]
    },
    {
      "cell_type": "code",
      "metadata": {
        "id": "HOrHXomNxwXh"
      },
      "source": [
        "df = df.drop(['Open','High','Low','Close','Volume','Dividend','Split'],axis=1)"
      ],
      "execution_count": 88,
      "outputs": []
    },
    {
      "cell_type": "code",
      "metadata": {
        "id": "EIspkx3wyJyS"
      },
      "source": [
        "df['HL_PCT'] = (df['Adj_High']-df['Adj_Low'])/(df['Adj_Close'])*100\r\n",
        "df['PCT_Change'] = (df['Adj_Close']-df['Adj_Open'])/(df['Adj_Open'])*100"
      ],
      "execution_count": 89,
      "outputs": []
    },
    {
      "cell_type": "code",
      "metadata": {
        "colab": {
          "base_uri": "https://localhost:8080/",
          "height": 431
        },
        "id": "ovzCIFmTyPNq",
        "outputId": "5c17fdae-31e6-49c7-d057-6b08202ae190"
      },
      "source": [
        "df"
      ],
      "execution_count": 90,
      "outputs": [
        {
          "output_type": "execute_result",
          "data": {
            "text/html": [
              "<div>\n",
              "<style scoped>\n",
              "    .dataframe tbody tr th:only-of-type {\n",
              "        vertical-align: middle;\n",
              "    }\n",
              "\n",
              "    .dataframe tbody tr th {\n",
              "        vertical-align: top;\n",
              "    }\n",
              "\n",
              "    .dataframe thead th {\n",
              "        text-align: right;\n",
              "    }\n",
              "</style>\n",
              "<table border=\"1\" class=\"dataframe\">\n",
              "  <thead>\n",
              "    <tr style=\"text-align: right;\">\n",
              "      <th></th>\n",
              "      <th>Adj_Open</th>\n",
              "      <th>Adj_High</th>\n",
              "      <th>Adj_Low</th>\n",
              "      <th>Adj_Close</th>\n",
              "      <th>Adj_Volume</th>\n",
              "      <th>HL_PCT</th>\n",
              "      <th>PCT_Change</th>\n",
              "    </tr>\n",
              "    <tr>\n",
              "      <th>Date</th>\n",
              "      <th></th>\n",
              "      <th></th>\n",
              "      <th></th>\n",
              "      <th></th>\n",
              "      <th></th>\n",
              "      <th></th>\n",
              "      <th></th>\n",
              "    </tr>\n",
              "  </thead>\n",
              "  <tbody>\n",
              "    <tr>\n",
              "      <th>2013-09-03</th>\n",
              "      <td>15.619650</td>\n",
              "      <td>15.857223</td>\n",
              "      <td>15.437510</td>\n",
              "      <td>15.476472</td>\n",
              "      <td>331928800.0</td>\n",
              "      <td>2.711941</td>\n",
              "      <td>-0.916650</td>\n",
              "    </tr>\n",
              "    <tr>\n",
              "      <th>2013-09-04</th>\n",
              "      <td>15.824280</td>\n",
              "      <td>15.909173</td>\n",
              "      <td>15.720381</td>\n",
              "      <td>15.796753</td>\n",
              "      <td>345032800.0</td>\n",
              "      <td>1.195129</td>\n",
              "      <td>-0.173953</td>\n",
              "    </tr>\n",
              "    <tr>\n",
              "      <th>2013-09-05</th>\n",
              "      <td>15.846136</td>\n",
              "      <td>15.859757</td>\n",
              "      <td>15.636755</td>\n",
              "      <td>15.688388</td>\n",
              "      <td>236367600.0</td>\n",
              "      <td>1.421447</td>\n",
              "      <td>-0.995502</td>\n",
              "    </tr>\n",
              "    <tr>\n",
              "      <th>2013-09-06</th>\n",
              "      <td>15.788802</td>\n",
              "      <td>15.818578</td>\n",
              "      <td>15.519869</td>\n",
              "      <td>15.781833</td>\n",
              "      <td>359525600.0</td>\n",
              "      <td>1.892738</td>\n",
              "      <td>-0.044138</td>\n",
              "    </tr>\n",
              "    <tr>\n",
              "      <th>2013-09-09</th>\n",
              "      <td>15.996600</td>\n",
              "      <td>16.089095</td>\n",
              "      <td>15.948451</td>\n",
              "      <td>16.033661</td>\n",
              "      <td>340687200.0</td>\n",
              "      <td>0.877176</td>\n",
              "      <td>0.231683</td>\n",
              "    </tr>\n",
              "    <tr>\n",
              "      <th>...</th>\n",
              "      <td>...</td>\n",
              "      <td>...</td>\n",
              "      <td>...</td>\n",
              "      <td>...</td>\n",
              "      <td>...</td>\n",
              "      <td>...</td>\n",
              "      <td>...</td>\n",
              "    </tr>\n",
              "    <tr>\n",
              "      <th>2017-12-21</th>\n",
              "      <td>41.899570</td>\n",
              "      <td>42.344619</td>\n",
              "      <td>41.882730</td>\n",
              "      <td>42.101646</td>\n",
              "      <td>83799584.0</td>\n",
              "      <td>1.097080</td>\n",
              "      <td>0.482287</td>\n",
              "    </tr>\n",
              "    <tr>\n",
              "      <th>2017-12-22</th>\n",
              "      <td>42.022259</td>\n",
              "      <td>42.201241</td>\n",
              "      <td>41.978957</td>\n",
              "      <td>42.101646</td>\n",
              "      <td>65397776.0</td>\n",
              "      <td>0.527970</td>\n",
              "      <td>0.188917</td>\n",
              "    </tr>\n",
              "    <tr>\n",
              "      <th>2017-12-26</th>\n",
              "      <td>41.088858</td>\n",
              "      <td>41.250038</td>\n",
              "      <td>40.819183</td>\n",
              "      <td>41.033528</td>\n",
              "      <td>132742144.0</td>\n",
              "      <td>1.050009</td>\n",
              "      <td>-0.134660</td>\n",
              "    </tr>\n",
              "    <tr>\n",
              "      <th>2017-12-27</th>\n",
              "      <td>40.920461</td>\n",
              "      <td>41.084047</td>\n",
              "      <td>40.826640</td>\n",
              "      <td>41.040745</td>\n",
              "      <td>85992852.0</td>\n",
              "      <td>0.627198</td>\n",
              "      <td>0.293945</td>\n",
              "    </tr>\n",
              "    <tr>\n",
              "      <th>2017-12-28</th>\n",
              "      <td>41.136972</td>\n",
              "      <td>41.341454</td>\n",
              "      <td>41.011877</td>\n",
              "      <td>41.156217</td>\n",
              "      <td>65920748.0</td>\n",
              "      <td>0.800795</td>\n",
              "      <td>0.046784</td>\n",
              "    </tr>\n",
              "  </tbody>\n",
              "</table>\n",
              "<p>1090 rows × 7 columns</p>\n",
              "</div>"
            ],
            "text/plain": [
              "             Adj_Open   Adj_High    Adj_Low  ...   Adj_Volume    HL_PCT  PCT_Change\n",
              "Date                                         ...                                   \n",
              "2013-09-03  15.619650  15.857223  15.437510  ...  331928800.0  2.711941   -0.916650\n",
              "2013-09-04  15.824280  15.909173  15.720381  ...  345032800.0  1.195129   -0.173953\n",
              "2013-09-05  15.846136  15.859757  15.636755  ...  236367600.0  1.421447   -0.995502\n",
              "2013-09-06  15.788802  15.818578  15.519869  ...  359525600.0  1.892738   -0.044138\n",
              "2013-09-09  15.996600  16.089095  15.948451  ...  340687200.0  0.877176    0.231683\n",
              "...               ...        ...        ...  ...          ...       ...         ...\n",
              "2017-12-21  41.899570  42.344619  41.882730  ...   83799584.0  1.097080    0.482287\n",
              "2017-12-22  42.022259  42.201241  41.978957  ...   65397776.0  0.527970    0.188917\n",
              "2017-12-26  41.088858  41.250038  40.819183  ...  132742144.0  1.050009   -0.134660\n",
              "2017-12-27  40.920461  41.084047  40.826640  ...   85992852.0  0.627198    0.293945\n",
              "2017-12-28  41.136972  41.341454  41.011877  ...   65920748.0  0.800795    0.046784\n",
              "\n",
              "[1090 rows x 7 columns]"
            ]
          },
          "metadata": {
            "tags": []
          },
          "execution_count": 90
        }
      ]
    },
    {
      "cell_type": "code",
      "metadata": {
        "id": "9ULS-NgcyRcO"
      },
      "source": [
        "d2 = df[['Adj_Close','PCT_Change','HL_PCT','Adj_Volume']]"
      ],
      "execution_count": 142,
      "outputs": []
    },
    {
      "cell_type": "code",
      "metadata": {
        "colab": {
          "base_uri": "https://localhost:8080/",
          "height": 431
        },
        "id": "LjXyqvW20NJO",
        "outputId": "60852796-90f1-442f-c0c0-7245cac967d6"
      },
      "source": [
        "d2.fillna(-99999)"
      ],
      "execution_count": 143,
      "outputs": [
        {
          "output_type": "execute_result",
          "data": {
            "text/html": [
              "<div>\n",
              "<style scoped>\n",
              "    .dataframe tbody tr th:only-of-type {\n",
              "        vertical-align: middle;\n",
              "    }\n",
              "\n",
              "    .dataframe tbody tr th {\n",
              "        vertical-align: top;\n",
              "    }\n",
              "\n",
              "    .dataframe thead th {\n",
              "        text-align: right;\n",
              "    }\n",
              "</style>\n",
              "<table border=\"1\" class=\"dataframe\">\n",
              "  <thead>\n",
              "    <tr style=\"text-align: right;\">\n",
              "      <th></th>\n",
              "      <th>Adj_Close</th>\n",
              "      <th>PCT_Change</th>\n",
              "      <th>HL_PCT</th>\n",
              "      <th>Adj_Volume</th>\n",
              "    </tr>\n",
              "    <tr>\n",
              "      <th>Date</th>\n",
              "      <th></th>\n",
              "      <th></th>\n",
              "      <th></th>\n",
              "      <th></th>\n",
              "    </tr>\n",
              "  </thead>\n",
              "  <tbody>\n",
              "    <tr>\n",
              "      <th>2013-09-03</th>\n",
              "      <td>15.476472</td>\n",
              "      <td>-0.916650</td>\n",
              "      <td>2.711941</td>\n",
              "      <td>331928800.0</td>\n",
              "    </tr>\n",
              "    <tr>\n",
              "      <th>2013-09-04</th>\n",
              "      <td>15.796753</td>\n",
              "      <td>-0.173953</td>\n",
              "      <td>1.195129</td>\n",
              "      <td>345032800.0</td>\n",
              "    </tr>\n",
              "    <tr>\n",
              "      <th>2013-09-05</th>\n",
              "      <td>15.688388</td>\n",
              "      <td>-0.995502</td>\n",
              "      <td>1.421447</td>\n",
              "      <td>236367600.0</td>\n",
              "    </tr>\n",
              "    <tr>\n",
              "      <th>2013-09-06</th>\n",
              "      <td>15.781833</td>\n",
              "      <td>-0.044138</td>\n",
              "      <td>1.892738</td>\n",
              "      <td>359525600.0</td>\n",
              "    </tr>\n",
              "    <tr>\n",
              "      <th>2013-09-09</th>\n",
              "      <td>16.033661</td>\n",
              "      <td>0.231683</td>\n",
              "      <td>0.877176</td>\n",
              "      <td>340687200.0</td>\n",
              "    </tr>\n",
              "    <tr>\n",
              "      <th>...</th>\n",
              "      <td>...</td>\n",
              "      <td>...</td>\n",
              "      <td>...</td>\n",
              "      <td>...</td>\n",
              "    </tr>\n",
              "    <tr>\n",
              "      <th>2017-12-21</th>\n",
              "      <td>42.101646</td>\n",
              "      <td>0.482287</td>\n",
              "      <td>1.097080</td>\n",
              "      <td>83799584.0</td>\n",
              "    </tr>\n",
              "    <tr>\n",
              "      <th>2017-12-22</th>\n",
              "      <td>42.101646</td>\n",
              "      <td>0.188917</td>\n",
              "      <td>0.527970</td>\n",
              "      <td>65397776.0</td>\n",
              "    </tr>\n",
              "    <tr>\n",
              "      <th>2017-12-26</th>\n",
              "      <td>41.033528</td>\n",
              "      <td>-0.134660</td>\n",
              "      <td>1.050009</td>\n",
              "      <td>132742144.0</td>\n",
              "    </tr>\n",
              "    <tr>\n",
              "      <th>2017-12-27</th>\n",
              "      <td>41.040745</td>\n",
              "      <td>0.293945</td>\n",
              "      <td>0.627198</td>\n",
              "      <td>85992852.0</td>\n",
              "    </tr>\n",
              "    <tr>\n",
              "      <th>2017-12-28</th>\n",
              "      <td>41.156217</td>\n",
              "      <td>0.046784</td>\n",
              "      <td>0.800795</td>\n",
              "      <td>65920748.0</td>\n",
              "    </tr>\n",
              "  </tbody>\n",
              "</table>\n",
              "<p>1090 rows × 4 columns</p>\n",
              "</div>"
            ],
            "text/plain": [
              "            Adj_Close  PCT_Change    HL_PCT   Adj_Volume\n",
              "Date                                                    \n",
              "2013-09-03  15.476472   -0.916650  2.711941  331928800.0\n",
              "2013-09-04  15.796753   -0.173953  1.195129  345032800.0\n",
              "2013-09-05  15.688388   -0.995502  1.421447  236367600.0\n",
              "2013-09-06  15.781833   -0.044138  1.892738  359525600.0\n",
              "2013-09-09  16.033661    0.231683  0.877176  340687200.0\n",
              "...               ...         ...       ...          ...\n",
              "2017-12-21  42.101646    0.482287  1.097080   83799584.0\n",
              "2017-12-22  42.101646    0.188917  0.527970   65397776.0\n",
              "2017-12-26  41.033528   -0.134660  1.050009  132742144.0\n",
              "2017-12-27  41.040745    0.293945  0.627198   85992852.0\n",
              "2017-12-28  41.156217    0.046784  0.800795   65920748.0\n",
              "\n",
              "[1090 rows x 4 columns]"
            ]
          },
          "metadata": {
            "tags": []
          },
          "execution_count": 143
        }
      ]
    },
    {
      "cell_type": "code",
      "metadata": {
        "colab": {
          "base_uri": "https://localhost:8080/"
        },
        "id": "cs0wuSXe0dO4",
        "outputId": "f201cdd1-dee5-4589-b894-dea699b5c53f"
      },
      "source": [
        "d2.shape"
      ],
      "execution_count": 144,
      "outputs": [
        {
          "output_type": "execute_result",
          "data": {
            "text/plain": [
              "(1090, 4)"
            ]
          },
          "metadata": {
            "tags": []
          },
          "execution_count": 144
        }
      ]
    },
    {
      "cell_type": "code",
      "metadata": {
        "id": "l5on7vdg00yV"
      },
      "source": [
        "import matplotlib.pyplot as plt\r\n"
      ],
      "execution_count": 145,
      "outputs": []
    },
    {
      "cell_type": "code",
      "metadata": {
        "colab": {
          "base_uri": "https://localhost:8080/",
          "height": 490
        },
        "id": "SdFuZ3060lZa",
        "outputId": "a64fd687-5f31-4e8c-ad28-56165f50edc3"
      },
      "source": [
        "d2['Adj_Close'].pct_change().plot(figsize=(10,8),grid=True)"
      ],
      "execution_count": 146,
      "outputs": [
        {
          "output_type": "execute_result",
          "data": {
            "text/plain": [
              "<matplotlib.axes._subplots.AxesSubplot at 0x7f5490e474e0>"
            ]
          },
          "metadata": {
            "tags": []
          },
          "execution_count": 146
        },
        {
          "output_type": "display_data",
          "data": {
            "image/png": "[encoded data removed]",
            "text/plain": [
              "<Figure size 720x576 with 1 Axes>"
            ]
          },
          "metadata": {
            "tags": [],
            "needs_background": "light"
          }
        }
      ]
    },
    {
      "cell_type": "code",
      "metadata": {
        "colab": {
          "base_uri": "https://localhost:8080/",
          "height": 388
        },
        "id": "2YvLr5550_kF",
        "outputId": "1e162697-8724-4141-cd19-2914bc0d5846"
      },
      "source": [
        "plt.figure(figsize=(10,6))\r\n",
        "plt.grid(True)\r\n",
        "plt.plot(d2['Adj_Close'])\r\n",
        "\r\n",
        "plt.xlabel(\"Time\")\r\n",
        "plt.ylabel(\"Values\")\r\n",
        "plt.show()"
      ],
      "execution_count": 147,
      "outputs": [
        {
          "output_type": "display_data",
          "data": {
            "image/png": "[encoded data removed]",
            "text/plain": [
              "<Figure size 720x432 with 1 Axes>"
            ]
          },
          "metadata": {
            "tags": [],
            "needs_background": "light"
          }
        }
      ]
    },
    {
      "cell_type": "code",
      "metadata": {
        "colab": {
          "base_uri": "https://localhost:8080/",
          "height": 166
        },
        "id": "IFuJygVv1nd-",
        "outputId": "8185cc3e-655b-404b-b383-c03184619746"
      },
      "source": [
        "d2.corr()"
      ],
      "execution_count": 148,
      "outputs": [
        {
          "output_type": "execute_result",
          "data": {
            "text/html": [
              "<div>\n",
              "<style scoped>\n",
              "    .dataframe tbody tr th:only-of-type {\n",
              "        vertical-align: middle;\n",
              "    }\n",
              "\n",
              "    .dataframe tbody tr th {\n",
              "        vertical-align: top;\n",
              "    }\n",
              "\n",
              "    .dataframe thead th {\n",
              "        text-align: right;\n",
              "    }\n",
              "</style>\n",
              "<table border=\"1\" class=\"dataframe\">\n",
              "  <thead>\n",
              "    <tr style=\"text-align: right;\">\n",
              "      <th></th>\n",
              "      <th>Adj_Close</th>\n",
              "      <th>PCT_Change</th>\n",
              "      <th>HL_PCT</th>\n",
              "      <th>Adj_Volume</th>\n",
              "    </tr>\n",
              "  </thead>\n",
              "  <tbody>\n",
              "    <tr>\n",
              "      <th>Adj_Close</th>\n",
              "      <td>1.000000</td>\n",
              "      <td>0.025237</td>\n",
              "      <td>-0.137288</td>\n",
              "      <td>-0.553474</td>\n",
              "    </tr>\n",
              "    <tr>\n",
              "      <th>PCT_Change</th>\n",
              "      <td>0.025237</td>\n",
              "      <td>1.000000</td>\n",
              "      <td>-0.060349</td>\n",
              "      <td>-0.079556</td>\n",
              "    </tr>\n",
              "    <tr>\n",
              "      <th>HL_PCT</th>\n",
              "      <td>-0.137288</td>\n",
              "      <td>-0.060349</td>\n",
              "      <td>1.000000</td>\n",
              "      <td>0.512480</td>\n",
              "    </tr>\n",
              "    <tr>\n",
              "      <th>Adj_Volume</th>\n",
              "      <td>-0.553474</td>\n",
              "      <td>-0.079556</td>\n",
              "      <td>0.512480</td>\n",
              "      <td>1.000000</td>\n",
              "    </tr>\n",
              "  </tbody>\n",
              "</table>\n",
              "</div>"
            ],
            "text/plain": [
              "            Adj_Close  PCT_Change    HL_PCT  Adj_Volume\n",
              "Adj_Close    1.000000    0.025237 -0.137288   -0.553474\n",
              "PCT_Change   0.025237    1.000000 -0.060349   -0.079556\n",
              "HL_PCT      -0.137288   -0.060349  1.000000    0.512480\n",
              "Adj_Volume  -0.553474   -0.079556  0.512480    1.000000"
            ]
          },
          "metadata": {
            "tags": []
          },
          "execution_count": 148
        }
      ]
    },
    {
      "cell_type": "code",
      "metadata": {
        "colab": {
          "base_uri": "https://localhost:8080/",
          "height": 225
        },
        "id": "QUR48r6lHBjC",
        "outputId": "ae5adde6-5915-48eb-9658-bbf3a66dca2d"
      },
      "source": [
        "df.head()"
      ],
      "execution_count": 151,
      "outputs": [
        {
          "output_type": "execute_result",
          "data": {
            "text/html": [
              "<div>\n",
              "<style scoped>\n",
              "    .dataframe tbody tr th:only-of-type {\n",
              "        vertical-align: middle;\n",
              "    }\n",
              "\n",
              "    .dataframe tbody tr th {\n",
              "        vertical-align: top;\n",
              "    }\n",
              "\n",
              "    .dataframe thead th {\n",
              "        text-align: right;\n",
              "    }\n",
              "</style>\n",
              "<table border=\"1\" class=\"dataframe\">\n",
              "  <thead>\n",
              "    <tr style=\"text-align: right;\">\n",
              "      <th></th>\n",
              "      <th>Adj_Open</th>\n",
              "      <th>Adj_High</th>\n",
              "      <th>Adj_Low</th>\n",
              "      <th>Adj_Close</th>\n",
              "      <th>Adj_Volume</th>\n",
              "      <th>HL_PCT</th>\n",
              "      <th>PCT_Change</th>\n",
              "    </tr>\n",
              "    <tr>\n",
              "      <th>Date</th>\n",
              "      <th></th>\n",
              "      <th></th>\n",
              "      <th></th>\n",
              "      <th></th>\n",
              "      <th></th>\n",
              "      <th></th>\n",
              "      <th></th>\n",
              "    </tr>\n",
              "  </thead>\n",
              "  <tbody>\n",
              "    <tr>\n",
              "      <th>2013-09-03</th>\n",
              "      <td>15.619650</td>\n",
              "      <td>15.857223</td>\n",
              "      <td>15.437510</td>\n",
              "      <td>15.476472</td>\n",
              "      <td>331928800.0</td>\n",
              "      <td>2.711941</td>\n",
              "      <td>-0.916650</td>\n",
              "    </tr>\n",
              "    <tr>\n",
              "      <th>2013-09-04</th>\n",
              "      <td>15.824280</td>\n",
              "      <td>15.909173</td>\n",
              "      <td>15.720381</td>\n",
              "      <td>15.796753</td>\n",
              "      <td>345032800.0</td>\n",
              "      <td>1.195129</td>\n",
              "      <td>-0.173953</td>\n",
              "    </tr>\n",
              "    <tr>\n",
              "      <th>2013-09-05</th>\n",
              "      <td>15.846136</td>\n",
              "      <td>15.859757</td>\n",
              "      <td>15.636755</td>\n",
              "      <td>15.688388</td>\n",
              "      <td>236367600.0</td>\n",
              "      <td>1.421447</td>\n",
              "      <td>-0.995502</td>\n",
              "    </tr>\n",
              "    <tr>\n",
              "      <th>2013-09-06</th>\n",
              "      <td>15.788802</td>\n",
              "      <td>15.818578</td>\n",
              "      <td>15.519869</td>\n",
              "      <td>15.781833</td>\n",
              "      <td>359525600.0</td>\n",
              "      <td>1.892738</td>\n",
              "      <td>-0.044138</td>\n",
              "    </tr>\n",
              "    <tr>\n",
              "      <th>2013-09-09</th>\n",
              "      <td>15.996600</td>\n",
              "      <td>16.089095</td>\n",
              "      <td>15.948451</td>\n",
              "      <td>16.033661</td>\n",
              "      <td>340687200.0</td>\n",
              "      <td>0.877176</td>\n",
              "      <td>0.231683</td>\n",
              "    </tr>\n",
              "  </tbody>\n",
              "</table>\n",
              "</div>"
            ],
            "text/plain": [
              "             Adj_Open   Adj_High    Adj_Low  ...   Adj_Volume    HL_PCT  PCT_Change\n",
              "Date                                         ...                                   \n",
              "2013-09-03  15.619650  15.857223  15.437510  ...  331928800.0  2.711941   -0.916650\n",
              "2013-09-04  15.824280  15.909173  15.720381  ...  345032800.0  1.195129   -0.173953\n",
              "2013-09-05  15.846136  15.859757  15.636755  ...  236367600.0  1.421447   -0.995502\n",
              "2013-09-06  15.788802  15.818578  15.519869  ...  359525600.0  1.892738   -0.044138\n",
              "2013-09-09  15.996600  16.089095  15.948451  ...  340687200.0  0.877176    0.231683\n",
              "\n",
              "[5 rows x 7 columns]"
            ]
          },
          "metadata": {
            "tags": []
          },
          "execution_count": 151
        }
      ]
    },
    {
      "cell_type": "code",
      "metadata": {
        "colab": {
          "base_uri": "https://localhost:8080/"
        },
        "id": "tT4ca3Ax2B4i",
        "outputId": "75b46cc6-2ffb-404a-f31e-af678abca9d5"
      },
      "source": [
        "label = d2['Adj_Close'].shift(-2)\r\n",
        "\r\n",
        "label.dropna(inplace=True)\r\n",
        "y = np.array(label)\r\n",
        "\r\n",
        "X = d2[['Adj_Volume','PCT_Change','Adj_Volume']]\r\n",
        "X_Later = X[-2:]\r\n",
        "X = X[:-2]\r\n",
        "from sklearn.model_selection import train_test_split\r\n",
        "X_train,X_test,Y_train,Y_test = train_test_split(X,y,test_size=0.3,random_state=41)\r\n",
        "print(X_later)"
      ],
      "execution_count": 153,
      "outputs": [
        {
          "output_type": "stream",
          "text": [
            "[[0.03530972 0.42589749 0.03530972]\n",
            " [0.11256507 0.44548283 0.11256507]\n",
            " [0.07039956 0.49015484 0.07039956]\n",
            " [0.06261365 0.41444589 0.06261365]\n",
            " [0.04707531 0.41331003 0.04707531]\n",
            " [0.0371667  0.46417064 0.0371667 ]\n",
            " [0.01911898 0.44503259 0.01911898]\n",
            " [0.08516751 0.423924   0.08516751]\n",
            " [0.03931777 0.45188409 0.03931777]\n",
            " [0.01963189 0.43576051 0.01963189]]\n"
          ],
          "name": "stdout"
        }
      ]
    },
    {
      "cell_type": "code",
      "metadata": {
        "colab": {
          "base_uri": "https://localhost:8080/",
          "height": 225
        },
        "id": "9Ky1V9lYDx4R",
        "outputId": "30904881-a956-4656-cbb3-c6181835a6ac"
      },
      "source": [
        "X.head()"
      ],
      "execution_count": 154,
      "outputs": [
        {
          "output_type": "execute_result",
          "data": {
            "text/html": [
              "<div>\n",
              "<style scoped>\n",
              "    .dataframe tbody tr th:only-of-type {\n",
              "        vertical-align: middle;\n",
              "    }\n",
              "\n",
              "    .dataframe tbody tr th {\n",
              "        vertical-align: top;\n",
              "    }\n",
              "\n",
              "    .dataframe thead th {\n",
              "        text-align: right;\n",
              "    }\n",
              "</style>\n",
              "<table border=\"1\" class=\"dataframe\">\n",
              "  <thead>\n",
              "    <tr style=\"text-align: right;\">\n",
              "      <th></th>\n",
              "      <th>Adj_Volume</th>\n",
              "      <th>PCT_Change</th>\n",
              "      <th>Adj_Volume</th>\n",
              "    </tr>\n",
              "    <tr>\n",
              "      <th>Date</th>\n",
              "      <th></th>\n",
              "      <th></th>\n",
              "      <th></th>\n",
              "    </tr>\n",
              "  </thead>\n",
              "  <tbody>\n",
              "    <tr>\n",
              "      <th>2013-09-03</th>\n",
              "      <td>331928800.0</td>\n",
              "      <td>-0.916650</td>\n",
              "      <td>331928800.0</td>\n",
              "    </tr>\n",
              "    <tr>\n",
              "      <th>2013-09-04</th>\n",
              "      <td>345032800.0</td>\n",
              "      <td>-0.173953</td>\n",
              "      <td>345032800.0</td>\n",
              "    </tr>\n",
              "    <tr>\n",
              "      <th>2013-09-05</th>\n",
              "      <td>236367600.0</td>\n",
              "      <td>-0.995502</td>\n",
              "      <td>236367600.0</td>\n",
              "    </tr>\n",
              "    <tr>\n",
              "      <th>2013-09-06</th>\n",
              "      <td>359525600.0</td>\n",
              "      <td>-0.044138</td>\n",
              "      <td>359525600.0</td>\n",
              "    </tr>\n",
              "    <tr>\n",
              "      <th>2013-09-09</th>\n",
              "      <td>340687200.0</td>\n",
              "      <td>0.231683</td>\n",
              "      <td>340687200.0</td>\n",
              "    </tr>\n",
              "  </tbody>\n",
              "</table>\n",
              "</div>"
            ],
            "text/plain": [
              "             Adj_Volume  PCT_Change   Adj_Volume\n",
              "Date                                            \n",
              "2013-09-03  331928800.0   -0.916650  331928800.0\n",
              "2013-09-04  345032800.0   -0.173953  345032800.0\n",
              "2013-09-05  236367600.0   -0.995502  236367600.0\n",
              "2013-09-06  359525600.0   -0.044138  359525600.0\n",
              "2013-09-09  340687200.0    0.231683  340687200.0"
            ]
          },
          "metadata": {
            "tags": []
          },
          "execution_count": 154
        }
      ]
    },
    {
      "cell_type": "code",
      "metadata": {
        "colab": {
          "base_uri": "https://localhost:8080/"
        },
        "id": "hSxkr0Xu3RCj",
        "outputId": "5f6085b0-dfba-43d6-bdc7-d75d8da27dc1"
      },
      "source": [
        "from sklearn.preprocessing import MinMaxScaler\r\n",
        "norm = MinMaxScaler().fit(X_train)\r\n",
        "X_train = norm.transform(X_train)\r\n",
        "X_test = norm.transform(X_test)\r\n",
        "X_Later = X[-200:]\r\n",
        "X_Later = norm.transform(X_Later)\r\n",
        "X_train.shape"
      ],
      "execution_count": 182,
      "outputs": [
        {
          "output_type": "execute_result",
          "data": {
            "text/plain": [
              "(761, 3)"
            ]
          },
          "metadata": {
            "tags": []
          },
          "execution_count": 182
        }
      ]
    },
    {
      "cell_type": "code",
      "metadata": {
        "id": "MwtFIPJJ4RtS"
      },
      "source": [
        "from sklearn.linear_model import LinearRegression\r\n",
        "reg = LinearRegression()\r\n",
        "reg.fit(X_train,Y_train)\r\n",
        "score = reg.score(X_test,Y_test)"
      ],
      "execution_count": 183,
      "outputs": []
    },
    {
      "cell_type": "code",
      "metadata": {
        "colab": {
          "base_uri": "https://localhost:8080/"
        },
        "id": "BAfXS5Ry5XFX",
        "outputId": "fef98609-b882-4e78-e41a-e4e688e122ad"
      },
      "source": [
        "forecast = []\r\n",
        "forecast = reg.predict(X_later)\r\n",
        "y_pred = reg.predict(X_test)\r\n",
        "\r\n",
        "mse = mean_squared_error(Y_test,y_pred)\r\n",
        "print(forecast.shape)"
      ],
      "execution_count": 184,
      "outputs": [
        {
          "output_type": "stream",
          "text": [
            "(200,)\n"
          ],
          "name": "stdout"
        }
      ]
    },
    {
      "cell_type": "code",
      "metadata": {
        "colab": {
          "base_uri": "https://localhost:8080/"
        },
        "id": "DV2UwZsE_hud",
        "outputId": "7906bd99-53d5-42a9-8037-e862c6de404d"
      },
      "source": [
        "print(\"mse\",mse)\r\n",
        "print(\"Score\",score)"
      ],
      "execution_count": 188,
      "outputs": [
        {
          "output_type": "stream",
          "text": [
            "mse 31.691029602715943\n",
            "Score 0.27668779921381004\n"
          ],
          "name": "stdout"
        }
      ]
    },
    {
      "cell_type": "code",
      "metadata": {
        "id": "NYOnP_3jCW_M"
      },
      "source": [
        ""
      ],
      "execution_count": null,
      "outputs": []
    }
  ]
}