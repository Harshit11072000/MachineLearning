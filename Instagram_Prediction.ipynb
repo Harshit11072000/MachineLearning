{
  "nbformat": 4,
  "nbformat_minor": 0,
  "metadata": {
    "colab": {
      "name": "Instagram_Prediction.ipynb",
      "provenance": [],
      "authorship_tag": "ABX9TyPsixLctQG+C59ZXoWz9OgU",
      "include_colab_link": true
    },
    "kernelspec": {
      "name": "python3",
      "display_name": "Python 3"
    }
  },
  "cells": [
    {
      "cell_type": "markdown",
      "metadata": {
        "id": "view-in-github",
        "colab_type": "text"
      },
      "source": [
        "<a href=\"https://colab.research.google.com/github/Harshit11072000/MachineLearning/blob/main/Instagram_Prediction.ipynb\" target=\"_parent\"><img src=\"https://colab.research.google.com/assets/colab-badge.svg\" alt=\"Open In Colab\"/></a>"
      ]
    },
    {
      "cell_type": "code",
      "metadata": {
        "id": "2VPL8kDkktAA"
      },
      "source": [
        "import numpy as np\r\n",
        "import pandas as pd\r\n"
      ],
      "execution_count": 1,
      "outputs": []
    },
    {
      "cell_type": "code",
      "metadata": {
        "id": "1ynkuaork-uj"
      },
      "source": [
        "d1 = pd.read_csv(\"instagram_reach.csv.txt\")"
      ],
      "execution_count": 45,
      "outputs": []
    },
    {
      "cell_type": "code",
      "metadata": {
        "id": "K2Ka9fpQlEbF"
      },
      "source": [
        "d1.head()\r\n",
        "d1 = d1.drop(['USERNAME','Caption','Hashtags'],axis=1)"
      ],
      "execution_count": 46,
      "outputs": []
    },
    {
      "cell_type": "code",
      "metadata": {
        "colab": {
          "base_uri": "https://localhost:8080/",
          "height": 195
        },
        "id": "-0LJFEQzoesK",
        "outputId": "f211e47d-6b43-4395-e44c-87f29b55a4c9"
      },
      "source": [
        "d1.head()"
      ],
      "execution_count": 47,
      "outputs": [
        {
          "output_type": "execute_result",
          "data": {
            "text/html": [
              "<div>\n",
              "<style scoped>\n",
              "    .dataframe tbody tr th:only-of-type {\n",
              "        vertical-align: middle;\n",
              "    }\n",
              "\n",
              "    .dataframe tbody tr th {\n",
              "        vertical-align: top;\n",
              "    }\n",
              "\n",
              "    .dataframe thead th {\n",
              "        text-align: right;\n",
              "    }\n",
              "</style>\n",
              "<table border=\"1\" class=\"dataframe\">\n",
              "  <thead>\n",
              "    <tr style=\"text-align: right;\">\n",
              "      <th></th>\n",
              "      <th>Unnamed: 0</th>\n",
              "      <th>S.No</th>\n",
              "      <th>Followers</th>\n",
              "      <th>Time since posted</th>\n",
              "      <th>Likes</th>\n",
              "    </tr>\n",
              "  </thead>\n",
              "  <tbody>\n",
              "    <tr>\n",
              "      <th>0</th>\n",
              "      <td>0</td>\n",
              "      <td>1</td>\n",
              "      <td>1600</td>\n",
              "      <td>11 hours</td>\n",
              "      <td>139</td>\n",
              "    </tr>\n",
              "    <tr>\n",
              "      <th>1</th>\n",
              "      <td>1</td>\n",
              "      <td>2</td>\n",
              "      <td>880</td>\n",
              "      <td>2 hours</td>\n",
              "      <td>23</td>\n",
              "    </tr>\n",
              "    <tr>\n",
              "      <th>2</th>\n",
              "      <td>2</td>\n",
              "      <td>3</td>\n",
              "      <td>255</td>\n",
              "      <td>2 hours</td>\n",
              "      <td>25</td>\n",
              "    </tr>\n",
              "    <tr>\n",
              "      <th>3</th>\n",
              "      <td>3</td>\n",
              "      <td>4</td>\n",
              "      <td>340</td>\n",
              "      <td>3 hours</td>\n",
              "      <td>49</td>\n",
              "    </tr>\n",
              "    <tr>\n",
              "      <th>4</th>\n",
              "      <td>4</td>\n",
              "      <td>5</td>\n",
              "      <td>304</td>\n",
              "      <td>3 hours</td>\n",
              "      <td>30</td>\n",
              "    </tr>\n",
              "  </tbody>\n",
              "</table>\n",
              "</div>"
            ],
            "text/plain": [
              "   Unnamed: 0  S.No  Followers Time since posted  Likes\n",
              "0           0     1       1600          11 hours    139\n",
              "1           1     2        880           2 hours     23\n",
              "2           2     3        255           2 hours     25\n",
              "3           3     4        340           3 hours     49\n",
              "4           4     5        304           3 hours     30"
            ]
          },
          "metadata": {
            "tags": []
          },
          "execution_count": 47
        }
      ]
    },
    {
      "cell_type": "code",
      "metadata": {
        "colab": {
          "base_uri": "https://localhost:8080/"
        },
        "id": "UNMFkyYRoPqr",
        "outputId": "b84a1e43-47b6-4034-dc6a-8db1de4d224f"
      },
      "source": [
        "d1['Time since posted'] = d1['Time since posted'].str.replace(\"hours\",\"\")\r\n",
        "print(d1)"
      ],
      "execution_count": 48,
      "outputs": [
        {
          "output_type": "stream",
          "text": [
            "    Unnamed: 0  S.No  Followers Time since posted  Likes\n",
            "0            0     1       1600               11     139\n",
            "1            1     2        880                2      23\n",
            "2            2     3        255                2      25\n",
            "3            3     4        340                3      49\n",
            "4            4     5        304                3      30\n",
            "..         ...   ...        ...               ...    ...\n",
            "95           8    19        614                3      31\n",
            "96           9    21        450                3      42\n",
            "97          10    22        182                3      10\n",
            "98          11    24       2039                3     222\n",
            "99          12    25        741                3     109\n",
            "\n",
            "[100 rows x 5 columns]\n"
          ],
          "name": "stdout"
        }
      ]
    },
    {
      "cell_type": "code",
      "metadata": {
        "id": "HOC-lyh6lGIP"
      },
      "source": [
        "x = d1.iloc[:,:-1].values\r\n",
        "y = d1.iloc[:,-1].values"
      ],
      "execution_count": 49,
      "outputs": []
    },
    {
      "cell_type": "code",
      "metadata": {
        "id": "6qEQVurFlk8G"
      },
      "source": [
        "from sklearn.model_selection import train_test_split\r\n",
        "X_train,X_test,Y_train,Y_test = train_test_split(x,y,test_size=0.8)"
      ],
      "execution_count": 50,
      "outputs": []
    },
    {
      "cell_type": "code",
      "metadata": {
        "id": "ZyhGtfl1mFrL"
      },
      "source": [
        "from sklearn.linear_model import LinearRegression\r\n",
        "lr = LinearRegression()\r\n",
        "reg = lr.fit(X_train,Y_train)"
      ],
      "execution_count": 51,
      "outputs": []
    },
    {
      "cell_type": "code",
      "metadata": {
        "id": "TtBrjyUDl0pm"
      },
      "source": [
        "from sklearn.metrics import mean_squared_error \r\n",
        "mse = mean_squared_error(Y_test,reg.predict(X_test))"
      ],
      "execution_count": 52,
      "outputs": []
    },
    {
      "cell_type": "code",
      "metadata": {
        "colab": {
          "base_uri": "https://localhost:8080/"
        },
        "id": "Jh0QmPwznW2x",
        "outputId": "0a7c540a-747e-4be8-f165-bf452ce66865"
      },
      "source": [
        "print(mse)"
      ],
      "execution_count": 53,
      "outputs": [
        {
          "output_type": "stream",
          "text": [
            "1937.2024438315802\n"
          ],
          "name": "stdout"
        }
      ]
    },
    {
      "cell_type": "code",
      "metadata": {
        "id": "W9HZAv9Fnc-v"
      },
      "source": [
        ""
      ],
      "execution_count": null,
      "outputs": []
    }
  ]
}